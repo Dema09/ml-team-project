{
 "cells": [
  {
   "cell_type": "code",
   "execution_count": null,
   "metadata": {},
   "outputs": [],
   "source": [
    "import tensorflow;\n",
    "import seaborn;\n",
    "import pandas;"
   ]
  },
  {
   "cell_type": "markdown",
   "metadata": {},
   "source": [
    "## Data Pre-Processing\n",
    "Checkout the `main.ipynb` since I just copy-pasting the whole thing from it."
   ]
  },
  {
   "cell_type": "code",
   "execution_count": null,
   "metadata": {},
   "outputs": [],
   "source": [
    "# Loading data from pre-cleaned csv file\n",
    "dataframe = pandas.read_csv(\"../credit_card_clients.csv\");\n",
    "\n",
    "# Some education data contains 0, 5, and 6. I eliminating 'em.\n",
    "\n",
    "invalid_education_data = [];\n",
    "for idx, e in enumerate(dataframe['EDUCATION']):\n",
    "    if(e > 4 or e < 1):\n",
    "        invalid_education_data.append(idx);\n",
    "\n",
    "# Some marriage data contains 0. I eliminating 'em.\n",
    "\n",
    "invalid_marriage_data = [];\n",
    "for idx, e in enumerate(dataframe['MARRIAGE']):\n",
    "    if(e == 0):\n",
    "        invalid_marriage_data.append(idx);\n",
    "\n",
    "final_invalid_data_index = [];\n",
    "for e in [invalid_marriage_data, invalid_education_data]:\n",
    "    for f in e:\n",
    "        \n",
    "        # Check the index. If it throw exception, append the number. \n",
    "        try:\n",
    "            final_invalid_data_index.index(f);\n",
    "            continue;\n",
    "        except:\n",
    "            final_invalid_data_index.append(f);\n",
    "\n",
    "dataframe = dataframe.drop(final_invalid_data_index);\n",
    "\n",
    "# Make one hot encoding for Sex, Educuation, and Marriage since the data is an ordinal data\n",
    "hot_encoded_sex = pandas.get_dummies(dataframe['SEX'], prefix = \"sex\");\n",
    "hot_encoded_education = pandas.get_dummies(dataframe['EDUCATION'], prefix = \"education\");\n",
    "hot_encoded_marital_status = pandas.get_dummies(dataframe['MARRIAGE'], prefix = \"marital_status\");\n",
    "\n",
    "# Merge the hot_encoded with the main dataframe\n",
    "for i in [hot_encoded_sex, hot_encoded_education,hot_encoded_marital_status]:\n",
    "    dataframe = pandas.concat([dataframe, i], axis = 1);\n",
    "\n",
    "\n",
    "\n",
    "print(\"Data after cleaning: \", dataframe.shape);\n",
    "print(dataframe.columns.tolist());"
   ]
  },
  {
   "cell_type": "markdown",
   "metadata": {},
   "source": [
    "## Feature correlation checking"
   ]
  }
 ],
 "metadata": {
  "language_info": {
   "name": "python"
  }
 },
 "nbformat": 4,
 "nbformat_minor": 2
}
