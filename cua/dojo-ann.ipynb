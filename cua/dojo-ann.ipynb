{
 "cells": [
  {
   "cell_type": "code",
   "execution_count": 133,
   "metadata": {},
   "outputs": [],
   "source": [
    "import tensorflow;\n",
    "import pandas;\n",
    "from sklearn.model_selection import train_test_split;\n",
    "from tensorflow import keras;\n",
    "from tensorflow.keras.models import Sequential;\n",
    "from sklearn.preprocessing import StandardScaler\n",
    "import matplotlib.pyplot as plt;"
   ]
  },
  {
   "cell_type": "markdown",
   "metadata": {},
   "source": [
    "## Data Import"
   ]
  },
  {
   "cell_type": "code",
   "execution_count": 134,
   "metadata": {},
   "outputs": [],
   "source": [
    "# Loading data from pre-cleaned csv file\n",
    "dataframe = pandas.read_csv(\"/mnt/e/Code Repository/Campus/Machine Learning/Code/ml-team-project/credit_card_clients.csv\");"
   ]
  },
  {
   "cell_type": "markdown",
   "metadata": {},
   "source": [
    "## Feature Correlation\n",
    "\n",
    "In this section I set the treshold with 0.2. Any feature below 0.2 will be discarded."
   ]
  },
  {
   "cell_type": "code",
   "execution_count": 135,
   "metadata": {},
   "outputs": [
    {
     "name": "stdout",
     "output_type": "stream",
     "text": [
      "Relationship : Correlation Score\n",
      "ID -> LABEL :  -0.013951954838986251\n",
      "Dropping  ID\n",
      "LIMIT_BAL -> LABEL :  -0.1535198763935072\n",
      "Dropping  LIMIT_BAL\n",
      "SEX -> LABEL :  -0.03996057770544172\n",
      "Dropping  SEX\n",
      "EDUCATION -> LABEL :  0.028006077656250204\n",
      "MARRIAGE -> LABEL :  -0.024339215683404438\n",
      "Dropping  MARRIAGE\n",
      "AGE -> LABEL :  0.013889834301962887\n",
      "PAY_0 -> LABEL :  0.32479372847862237\n",
      "PAY_2 -> LABEL :  0.2635512016721678\n",
      "PAY_3 -> LABEL :  0.23525251372491712\n",
      "PAY_4 -> LABEL :  0.21661363684242388\n",
      "PAY_5 -> LABEL :  0.2041489138761645\n",
      "PAY_6 -> LABEL :  0.18686636165354611\n",
      "BILL_AMT1 -> LABEL :  -0.019644197143221562\n",
      "Dropping  BILL_AMT1\n",
      "BILL_AMT2 -> LABEL :  -0.014193218088215756\n",
      "Dropping  BILL_AMT2\n",
      "BILL_AMT3 -> LABEL :  -0.014075518043214726\n",
      "Dropping  BILL_AMT3\n",
      "BILL_AMT4 -> LABEL :  -0.010156495880289674\n",
      "Dropping  BILL_AMT4\n",
      "BILL_AMT5 -> LABEL :  -0.006760463841014779\n",
      "Dropping  BILL_AMT5\n",
      "BILL_AMT6 -> LABEL :  -0.005372314914815558\n",
      "Dropping  BILL_AMT6\n",
      "PAY_AMT1 -> LABEL :  -0.07292948777785163\n",
      "Dropping  PAY_AMT1\n",
      "PAY_AMT2 -> LABEL :  -0.058578706582901575\n",
      "Dropping  PAY_AMT2\n",
      "PAY_AMT3 -> LABEL :  -0.056250350990331634\n",
      "Dropping  PAY_AMT3\n",
      "PAY_AMT4 -> LABEL :  -0.05682740089288691\n",
      "Dropping  PAY_AMT4\n",
      "PAY_AMT5 -> LABEL :  -0.05512351562108876\n",
      "Dropping  PAY_AMT5\n",
      "PAY_AMT6 -> LABEL :  -0.05318334032612796\n",
      "Dropping  PAY_AMT6\n",
      "LABEL -> LABEL :  1.0\n"
     ]
    }
   ],
   "source": [
    "# Correlation Heatmap\n",
    "correlation = dataframe.corr();\n",
    "\n",
    "TRESHOLD = 0;\n",
    "print(\"Relationship : Correlation Score\");\n",
    "\n",
    "columns_to_be_dropped = [];\n",
    "for i in correlation.columns:\n",
    "    correlation_score = correlation[i][\"LABEL\"];\n",
    "    print(i, \"-> LABEL : \", correlation_score);\n",
    "\n",
    "    if(correlation_score < TRESHOLD):\n",
    "        columns_to_be_dropped.append(i);\n",
    "        print(\"Dropping \", i);\n",
    "\n",
    "dataframe = dataframe.drop(columns=columns_to_be_dropped);"
   ]
  },
  {
   "cell_type": "markdown",
   "metadata": {},
   "source": [
    "## Data Pre-Processing\n",
    "Checkout the `main.ipynb` since I just copy-pasting the whole thing from it."
   ]
  },
  {
   "cell_type": "code",
   "execution_count": 136,
   "metadata": {},
   "outputs": [
    {
     "name": "stdout",
     "output_type": "stream",
     "text": [
      "Data after cleaning:  (29655, 13)\n",
      "['EDUCATION', 'AGE', 'PAY_0', 'PAY_2', 'PAY_3', 'PAY_4', 'PAY_5', 'PAY_6', 'LABEL', 'education_1', 'education_2', 'education_3', 'education_4']\n"
     ]
    }
   ],
   "source": [
    "# Some education data contains 0, 5, and 6. I eliminating 'em.\n",
    "\n",
    "invalid_education_data = [];\n",
    "for idx, e in enumerate(dataframe['EDUCATION']):\n",
    "    if(e > 4 or e < 1):\n",
    "        invalid_education_data.append(idx);\n",
    "\n",
    "dataframe = dataframe.drop(invalid_education_data);\n",
    "\n",
    "# Make one hot encoding for Educuation since the data is an ordinal data\n",
    "hot_encoded_education = pandas.get_dummies(dataframe['EDUCATION'], prefix = \"education\");\n",
    "\n",
    "# Merge the hot_encoded with the main dataframe\n",
    "for i in [hot_encoded_education]:\n",
    "    dataframe = pandas.concat([dataframe, i], axis = 1);\n",
    "\n",
    "print(\"Data after cleaning: \", dataframe.shape);\n",
    "print(dataframe.columns.tolist());"
   ]
  },
  {
   "cell_type": "code",
   "execution_count": 137,
   "metadata": {},
   "outputs": [],
   "source": [
    "# Define label data\n",
    "label = dataframe['LABEL'];\n",
    "\n",
    "# Drop ID, SEX, EDUCATION, MARRIAGE, and LABEL from dataframe for features\n",
    "features = dataframe.drop(columns=[\"EDUCATION\", \"LABEL\"]);\n",
    "\n",
    "# Typecasting education_1 to 4 to int64 because ANN need to be standardized\n",
    "dataframe[\"education_1\"] = dataframe[\"education_1\"].astype(int);\n",
    "dataframe[\"education_2\"] = dataframe[\"education_2\"].astype(int);\n",
    "dataframe[\"education_3\"] = dataframe[\"education_3\"].astype(int);\n",
    "dataframe[\"education_4\"] = dataframe[\"education_4\"].astype(int);\n",
    "\n",
    "# Split the data into training, validation, and testing sets\n",
    "feature_train, feature_test, label_train, label_test = train_test_split(features, label, test_size = 0.6, random_state = 42);\n",
    "feature_validation, feature_test, label_validation, label_test = train_test_split(feature_test, label_test, test_size=0.5, random_state = 20);\n",
    "\n",
    "# Scale the features\n",
    "scaler = StandardScaler();\n",
    "feature_train_scaled = scaler.fit_transform(feature_train);\n",
    "feature_validation_scaled = scaler.fit_transform(feature_validation);\n",
    "feature_test_scaled = scaler.transform(feature_test);"
   ]
  },
  {
   "cell_type": "markdown",
   "metadata": {},
   "source": [
    "## Fine Tunning\n",
    "\n",
    "This code based on Tensorflow Artifical Neural Network."
   ]
  },
  {
   "cell_type": "code",
   "execution_count": 138,
   "metadata": {},
   "outputs": [
    {
     "name": "stdout",
     "output_type": "stream",
     "text": [
      "Epoch 1/15\n",
      "371/371 [==============================] - 100s 264ms/step - loss: 0.4644 - accuracy: 0.8140 - val_loss: 0.4539 - val_accuracy: 0.8153\n",
      "Epoch 2/15\n",
      "371/371 [==============================] - 73s 196ms/step - loss: 0.4442 - accuracy: 0.8203 - val_loss: 0.4467 - val_accuracy: 0.8162\n",
      "Epoch 3/15\n",
      "371/371 [==============================] - 21s 57ms/step - loss: 0.4412 - accuracy: 0.8209 - val_loss: 0.4472 - val_accuracy: 0.8152\n",
      "Epoch 4/15\n",
      "371/371 [==============================] - 28s 76ms/step - loss: 0.4402 - accuracy: 0.8202 - val_loss: 0.4442 - val_accuracy: 0.8187\n",
      "Epoch 5/15\n",
      "371/371 [==============================] - 27s 72ms/step - loss: 0.4379 - accuracy: 0.8237 - val_loss: 0.4450 - val_accuracy: 0.8170\n",
      "Epoch 6/15\n",
      "371/371 [==============================] - 27s 73ms/step - loss: 0.4365 - accuracy: 0.8211 - val_loss: 0.4452 - val_accuracy: 0.8191\n",
      "Epoch 7/15\n",
      "371/371 [==============================] - 30s 81ms/step - loss: 0.4347 - accuracy: 0.8215 - val_loss: 0.4467 - val_accuracy: 0.8176\n",
      "Epoch 8/15\n",
      "371/371 [==============================] - 25s 69ms/step - loss: 0.4340 - accuracy: 0.8237 - val_loss: 0.4459 - val_accuracy: 0.8190\n",
      "Epoch 9/15\n",
      "371/371 [==============================] - 22s 59ms/step - loss: 0.4336 - accuracy: 0.8240 - val_loss: 0.4457 - val_accuracy: 0.8181\n",
      "Epoch 10/15\n",
      "371/371 [==============================] - 31s 84ms/step - loss: 0.4324 - accuracy: 0.8240 - val_loss: 0.4465 - val_accuracy: 0.8190\n",
      "Epoch 11/15\n",
      "371/371 [==============================] - 30s 82ms/step - loss: 0.4309 - accuracy: 0.8230 - val_loss: 0.4457 - val_accuracy: 0.8178\n",
      "Epoch 12/15\n",
      "371/371 [==============================] - 25s 67ms/step - loss: 0.4303 - accuracy: 0.8250 - val_loss: 0.4488 - val_accuracy: 0.8178\n",
      "Epoch 13/15\n",
      "371/371 [==============================] - 26s 69ms/step - loss: 0.4292 - accuracy: 0.8239 - val_loss: 0.4504 - val_accuracy: 0.8131\n",
      "Epoch 14/15\n",
      "371/371 [==============================] - 21s 58ms/step - loss: 0.4289 - accuracy: 0.8257 - val_loss: 0.4506 - val_accuracy: 0.8181\n",
      "Epoch 15/15\n",
      "371/371 [==============================] - 24s 65ms/step - loss: 0.4282 - accuracy: 0.8270 - val_loss: 0.4476 - val_accuracy: 0.8174\n"
     ]
    },
    {
     "data": {
      "image/png": "[encoded data removed]",
      "text/plain": [
       "<Figure size 640x480 with 1 Axes>"
      ]
     },
     "metadata": {},
     "output_type": "display_data"
    },
    {
     "name": "stdout",
     "output_type": "stream",
     "text": [
      "279/279 [==============================] - 8s 29ms/step - loss: 0.4495 - accuracy: 0.8169\n",
      "Loss:  0.44948816299438477  Accuracy:  0.8169045448303223\n"
     ]
    }
   ],
   "source": [
    "class ANNModel:\n",
    "\n",
    "    optimizer = \"adam\";\n",
    "\n",
    "    def input_layer(self):\n",
    "        return keras.layers.Dense(32, input_dim = 11, activation = \"relu\"); # 11 is total features dimension\n",
    "\n",
    "    def hidden_layer(self):\n",
    "        return [\n",
    "            keras.layers.Dense(128, activation = \"relu\"),\n",
    "            keras.layers.Dense(64, activation = \"relu\"),\n",
    "            keras.layers.Dense(32, activation = \"relu\"),\n",
    "        ];\n",
    "\n",
    "    def output_layer(self):\n",
    "        return keras.layers.Dense(1, activation = \"sigmoid\"); # Since output is only 1 label.\n",
    "\n",
    "    def fit(self):\n",
    "        model = Sequential();\n",
    "        model.add(self.input_layer());\n",
    "\n",
    "        for i in self.hidden_layer():\n",
    "            model.add(i);\n",
    "\n",
    "        model.add(self.output_layer());\n",
    "\n",
    "        model.compile(loss=\"binary_crossentropy\", optimizer=\"adam\", metrics=[\"accuracy\"]);\n",
    "\n",
    "        model_plot = model.fit(feature_train_scaled, label_train, epochs = 15, validation_data=(feature_validation_scaled, label_validation));\n",
    "\n",
    "        plt.plot(model_plot.history[\"loss\"], label = \"Model Training Loss\");\n",
    "        plt.plot(model_plot.history[\"val_loss\"], label = \"Model Validation Loss\");\n",
    "        plt.title(\"Training and Validation Loss\");\n",
    "        plt.xlabel(\"Epochs\");\n",
    "        plt.ylabel(\"Loss\");\n",
    "        plt.legend();\n",
    "        plt.show();\n",
    "\n",
    "        return model;\n",
    "\n",
    "dojo = ANNModel();\n",
    "model = dojo.fit();\n",
    "\n",
    "loss, accuracy = model.evaluate(feature_test_scaled, label_test);\n",
    "print(\"Loss: \", loss, \" Accuracy: \", accuracy);"
   ]
  }
 ],
 "metadata": {
  "kernelspec": {
   "display_name": "Python 3 (ipykernel)",
   "language": "python",
   "name": "python3"
  },
  "language_info": {
   "codemirror_mode": {
    "name": "ipython",
    "version": 3
   },
   "file_extension": ".py",
   "mimetype": "text/x-python",
   "name": "python",
   "nbconvert_exporter": "python",
   "pygments_lexer": "ipython3",
   "version": "3.10.13"
  }
 },
 "nbformat": 4,
 "nbformat_minor": 2
}
